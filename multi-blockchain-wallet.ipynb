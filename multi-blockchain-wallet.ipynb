{
 "cells": [
  {
   "cell_type": "code",
   "execution_count": 17,
   "metadata": {},
   "outputs": [
    {
     "data": {
      "text/plain": [
       "True"
      ]
     },
     "execution_count": 17,
     "metadata": {},
     "output_type": "execute_result"
    }
   ],
   "source": [
    "import subprocess\n",
    "import json\n",
    "import os\n",
    "from constants import *\n",
    "from dotenv import load_dotenv\n",
    "from web3 import Web3\n",
    "from eth_account import Account\n",
    "from bit import PrivateKeyTestnet\n",
    "from bit.network import NetworkAPI\n",
    "from web3.middleware import geth_poa_middleware\n",
    "from web3.gas_strategies.time_based import medium_gas_price_strategy\n",
    "\n",
    "load_dotenv()"
   ]
  },
  {
   "cell_type": "code",
   "execution_count": 18,
   "metadata": {},
   "outputs": [],
   "source": [
    "mnemonic = os.getenv(\"mnemonic\")"
   ]
  },
  {
   "cell_type": "code",
   "execution_count": 19,
   "metadata": {},
   "outputs": [],
   "source": [
    "w3 = Web3(Web3.HTTPProvider('http://127.0.0.1:8545'))\n",
    "w3.middleware_onion.inject(geth_poa_middleware, layer=0)\n",
    "w3.eth.setGasPriceStrategy(medium_gas_price_strategy)"
   ]
  },
  {
   "cell_type": "code",
   "execution_count": 20,
   "metadata": {},
   "outputs": [],
   "source": [
    "def derive_wallets(mnemonic, coin, numderive):\n",
    "    command = f'php derive -g --mnemonic=\"{mnemonic}\" --coin=\"{coin}\" --numderive=\"{numderive}\" --format=json'\n",
    "    p = subprocess.Popen(command, stdout=subprocess.PIPE, shell=True)\n",
    "    output, err = p.communicate()\n",
    "   \n",
    "    keys = json.loads(output)\n",
    "    return  keys "
   ]
  },
  {
   "cell_type": "code",
   "execution_count": 21,
   "metadata": {},
   "outputs": [
    {
     "data": {
      "text/plain": [
       "[{'path': \"m/44'/0'/0'/0/0\",\n",
       "  'address': '1CMDFjz5DwfN87vgUZu8rVVnbTVzENvVCC',\n",
       "  'xprv': 'xprvA36xCmsPTBfFUVdSfH17HAXnYvvDn34RXHcxChVY5ysyfi1VPfMXMzfqDxgFA7HYSfFvPEryZuU7TTCGYaVyaWEjQoVUhcVprWjamgaWpnA',\n",
       "  'xpub': 'xpub6G6JcHQHHZDYgyhumJY7eJUX6xkiBVnGtWYZ15u9eKQxYWLdwCfmunzK5DyTVEkjpk8XNA4pJyYS2eocQL2WkxxwNoUejAY9DVWF3cQFx1u',\n",
       "  'privkey': 'L3EjCgsDDm9oQxNRH8mVaGJ9upMLJgtMis5D6bgfkxFRs66tPYpi',\n",
       "  'pubkey': '02d69ee2f6c8ac1a19abb0603982b2788249267d6df148622199943f4868557c73',\n",
       "  'pubkeyhash': '7c7bee9eeb89e84260d2685fe739ec7f06554aa5',\n",
       "  'index': 0},\n",
       " {'path': \"m/44'/0'/0'/0/1\",\n",
       "  'address': '1GgBzPDvMtYfbsCWr9roJHzcTsCCzZhVBR',\n",
       "  'xprv': 'xprvA36xCmsPTBfFXad3KUsuHYSY8q1KouVmyeL4yQNdrvQ1JUasYYH7H12w2tY4SPLZFBk5SMQT9zuHzYC2WUFM3XriYKf3HxuDdHbtYdSTrwx',\n",
       "  'xpub': 'xpub6G6JcHQHHZDYk4hWRWQuegPGgrqpDNDdLsFfmnnFRFvzBGv265bMpoMQt8CZhBS7qgo4ab7yaXozmaerZ9MkxGKQiuQQATAHfwqRUzAHUEz',\n",
       "  'privkey': 'L3nzVCjUSZSzPoBBMmZCwEkvYyHoUCscqvysFtGRTDZV5Rgjn2sX',\n",
       "  'pubkey': '02102bf55c6877a03603c72790742eedd260c1c13c4feeda4cb081658696b2e4cb',\n",
       "  'pubkeyhash': 'abf34860bce315656bb25d8b9c87128dca626064',\n",
       "  'index': 1},\n",
       " {'path': \"m/44'/0'/0'/0/2\",\n",
       "  'address': '1FQxLzaZSWexXYRsjH3NHMXRmjXxaALoPv',\n",
       "  'xprv': 'xprvA36xCmsPTBfFZf1TrPxSTc5Mued8A9M2boauWCdoEQADz4Ha6C9XgNCYg2ffZ88xtEEx2YWnSQnDiASQMFDc6vdjZS5Q8srHaqEnc1k4dm5',\n",
       "  'xpub': 'xpub6G6JcHQHHZDYn95vxRVSpk26TgTcZc4sy2WWJb3QnjhCrrcidjTnEAX2XJD8F1WJ3nKhwjL4wfKzVNnQdD5fXrn21HaH3GiKhQeBcooA2fb',\n",
       "  'privkey': 'KyJch8wmvRZiBs1b7sRTAkqodUPvXvUGBQxCMr2TSwuahKza6DLa',\n",
       "  'pubkey': '02819f33c0ef1e2edef57d10664c4703f5e2fe86cbd534142a96c0e105b990c12c',\n",
       "  'pubkeyhash': '9e19870be00acf23c08bd536eb1781c3eef59db6',\n",
       "  'index': 2}]"
      ]
     },
     "execution_count": 21,
     "metadata": {},
     "output_type": "execute_result"
    }
   ],
   "source": [
    "derive_wallets(mnemonic, 'BTC', 3)"
   ]
  },
  {
   "cell_type": "code",
   "execution_count": 22,
   "metadata": {},
   "outputs": [],
   "source": [
    "coins = {\"eth\", \"btc-test\", \"btc\"}\n",
    "numderive = 3"
   ]
  },
  {
   "cell_type": "code",
   "execution_count": 23,
   "metadata": {},
   "outputs": [],
   "source": [
    "keys = {}\n",
    "for coin in coins:\n",
    "    keys[coin]= derive_wallets(mnemonic, coin, numderive=3)"
   ]
  },
  {
   "cell_type": "code",
   "execution_count": 8,
   "metadata": {},
   "outputs": [
    {
     "name": "stdout",
     "output_type": "stream",
     "text": [
      "\"0xfa0f291e4d215437f615e6fbfe7786a9ee45e31f946230d75c75f95e178af6bb\"\n",
      "\"cPtbxdFBcbk4KDh4Lw1SRcE9Q4ztg67kn1bygQ25cCB9RHK9aC69\"\n"
     ]
    }
   ],
   "source": [
    "eth_PrivateKey = keys[\"eth\"][0]['privkey']\n",
    "btc_PrivateKey = keys['btc-test'][0]['privkey']\n",
    "\n",
    "print(json.dumps(eth_PrivateKey, indent=4, sort_keys=True))\n",
    "print(json.dumps(btc_PrivateKey, indent=4, sort_keys=True))"
   ]
  },
  {
   "cell_type": "code",
   "execution_count": 9,
   "metadata": {},
   "outputs": [
    {
     "name": "stdout",
     "output_type": "stream",
     "text": [
      "{\n",
      "    \"btc\": [\n",
      "        {\n",
      "            \"address\": \"1CMDFjz5DwfN87vgUZu8rVVnbTVzENvVCC\",\n",
      "            \"index\": 0,\n",
      "            \"path\": \"m/44'/0'/0'/0/0\",\n",
      "            \"privkey\": \"L3EjCgsDDm9oQxNRH8mVaGJ9upMLJgtMis5D6bgfkxFRs66tPYpi\",\n",
      "            \"pubkey\": \"02d69ee2f6c8ac1a19abb0603982b2788249267d6df148622199943f4868557c73\",\n",
      "            \"pubkeyhash\": \"7c7bee9eeb89e84260d2685fe739ec7f06554aa5\",\n",
      "            \"xprv\": \"xprvA36xCmsPTBfFUVdSfH17HAXnYvvDn34RXHcxChVY5ysyfi1VPfMXMzfqDxgFA7HYSfFvPEryZuU7TTCGYaVyaWEjQoVUhcVprWjamgaWpnA\",\n",
      "            \"xpub\": \"xpub6G6JcHQHHZDYgyhumJY7eJUX6xkiBVnGtWYZ15u9eKQxYWLdwCfmunzK5DyTVEkjpk8XNA4pJyYS2eocQL2WkxxwNoUejAY9DVWF3cQFx1u\"\n",
      "        },\n",
      "        {\n",
      "            \"address\": \"1GgBzPDvMtYfbsCWr9roJHzcTsCCzZhVBR\",\n",
      "            \"index\": 1,\n",
      "            \"path\": \"m/44'/0'/0'/0/1\",\n",
      "            \"privkey\": \"L3nzVCjUSZSzPoBBMmZCwEkvYyHoUCscqvysFtGRTDZV5Rgjn2sX\",\n",
      "            \"pubkey\": \"02102bf55c6877a03603c72790742eedd260c1c13c4feeda4cb081658696b2e4cb\",\n",
      "            \"pubkeyhash\": \"abf34860bce315656bb25d8b9c87128dca626064\",\n",
      "            \"xprv\": \"xprvA36xCmsPTBfFXad3KUsuHYSY8q1KouVmyeL4yQNdrvQ1JUasYYH7H12w2tY4SPLZFBk5SMQT9zuHzYC2WUFM3XriYKf3HxuDdHbtYdSTrwx\",\n",
      "            \"xpub\": \"xpub6G6JcHQHHZDYk4hWRWQuegPGgrqpDNDdLsFfmnnFRFvzBGv265bMpoMQt8CZhBS7qgo4ab7yaXozmaerZ9MkxGKQiuQQATAHfwqRUzAHUEz\"\n",
      "        },\n",
      "        {\n",
      "            \"address\": \"1FQxLzaZSWexXYRsjH3NHMXRmjXxaALoPv\",\n",
      "            \"index\": 2,\n",
      "            \"path\": \"m/44'/0'/0'/0/2\",\n",
      "            \"privkey\": \"KyJch8wmvRZiBs1b7sRTAkqodUPvXvUGBQxCMr2TSwuahKza6DLa\",\n",
      "            \"pubkey\": \"02819f33c0ef1e2edef57d10664c4703f5e2fe86cbd534142a96c0e105b990c12c\",\n",
      "            \"pubkeyhash\": \"9e19870be00acf23c08bd536eb1781c3eef59db6\",\n",
      "            \"xprv\": \"xprvA36xCmsPTBfFZf1TrPxSTc5Mued8A9M2boauWCdoEQADz4Ha6C9XgNCYg2ffZ88xtEEx2YWnSQnDiASQMFDc6vdjZS5Q8srHaqEnc1k4dm5\",\n",
      "            \"xpub\": \"xpub6G6JcHQHHZDYn95vxRVSpk26TgTcZc4sy2WWJb3QnjhCrrcidjTnEAX2XJD8F1WJ3nKhwjL4wfKzVNnQdD5fXrn21HaH3GiKhQeBcooA2fb\"\n",
      "        }\n",
      "    ],\n",
      "    \"btc-test\": [\n",
      "        {\n",
      "            \"address\": \"mzRULyo9J9YMJiXnXyEzf4d3M4nTf5NQC3\",\n",
      "            \"index\": 0,\n",
      "            \"path\": \"m/44'/1'/0'/0/0\",\n",
      "            \"privkey\": \"cPtbxdFBcbk4KDh4Lw1SRcE9Q4ztg67kn1bygQ25cCB9RHK9aC69\",\n",
      "            \"pubkey\": \"034866a1a9a9b15ca569097b8f0708046bb6e1460b7081bf0921d8a3a01d4e60b7\",\n",
      "            \"pubkeyhash\": \"cf60fa9defc5c0d8efd334d69b9459cb00aaca2e\",\n",
      "            \"xprv\": \"tprv8joTibWYc1Er6iLgAHuVri9MTGfhYoQKs3XVYGsvYagE7qFd39cgabiSpVKz1zPjBcBCE9utSRF61kJqx3Ae3h6SLjy13bw1fTqSp43aA5u\",\n",
      "            \"xpub\": \"tpubDGVVs1YnkNvWzBNU3wa6G7oU2JBdi8bESM8GpnvDxrUcxKWPfYSGm6LJzeFAz5JxduUJ1LXPw6BQXPZuESdREgHoz1qhW8d3f8SLg8M1FV1\"\n",
      "        },\n",
      "        {\n",
      "            \"address\": \"msrgmSdJqwtNaEAMqyQxr4TtLPSrX1waDs\",\n",
      "            \"index\": 1,\n",
      "            \"path\": \"m/44'/1'/0'/0/1\",\n",
      "            \"privkey\": \"cN7ehPNinLKUfDAy16m8dEshqC25cf1raeHanoqi7bFZ1pFnQUTv\",\n",
      "            \"pubkey\": \"024fe9624fef090850705439a75416b83ea3bc1088955a52b38ddb89cacc93f507\",\n",
      "            \"pubkeyhash\": \"875cdde020974a7240062ed7a3c8c468388f8287\",\n",
      "            \"xprv\": \"tprv8joTibWYc1Er9VSxntm6QgHMrRQqxUFkCc15pQahGbm8QQuYumL7X7Tg1FuggwnBUmYAnxFztmSLzr4VTPZeJCECa46L7kPZVbeJtVfkejK\",\n",
      "            \"xpub\": \"tpubDGVVs1YnkNvX2xUkgYRgp5wURSvn7oSemubs6vczgsZXEuAKYA9hhc5YBPLmCLsZs37fgbLSgiChvKZiiTUNGdRUYzMfaipVnNLhqWgnBs1\"\n",
      "        },\n",
      "        {\n",
      "            \"address\": \"mz5wwf2C8uNbyMoYzBs6eW9dsTaM9DQJEP\",\n",
      "            \"index\": 2,\n",
      "            \"path\": \"m/44'/1'/0'/0/2\",\n",
      "            \"privkey\": \"cQeTVxWrchuo5bb6gmA9Mi1ofypkfeqaMwZNmQTTYqoi18kUPSxc\",\n",
      "            \"pubkey\": \"02f59dfc701833c013e90c65292191e9e2098d10497fa2a8c3d4fdd7e4a0bcd325\",\n",
      "            \"pubkeyhash\": \"cbafb280ad1c336f86149151b16c7f730f6f53be\",\n",
      "            \"xprv\": \"tprv8joTibWYc1ErBADGPhQrEWSeoCZL2bLaA5esE8bfsnQvmwqz1vF4zo38cgLRMefEzCMhTvPaw8GtRUUsmjL5pLiMp39tFNhHx1FEEDinoJZ\",\n",
      "            \"xpub\": \"tpubDGVVs1YnkNvX4dF4HM5Sdv6mNE5GBvXUjPFeWedyJ4DKcS6keK4fBHeznpTDTD1fdPLVXsLAzeWwghVeUwQZXbVBSiQJnFoJZNepmttf1X5\"\n",
      "        }\n",
      "    ],\n",
      "    \"eth\": [\n",
      "        {\n",
      "            \"address\": \"0x2dd0500bA54408777f00872861eB656B4e68d08c\",\n",
      "            \"index\": 0,\n",
      "            \"path\": \"m/44'/60'/0'/0/0\",\n",
      "            \"privkey\": \"0xfa0f291e4d215437f615e6fbfe7786a9ee45e31f946230d75c75f95e178af6bb\",\n",
      "            \"pubkey\": \"0350e1d95b7b3b910e5afa00c873dc088943be0b47bd2e2c1efbf0daefde527d1c\",\n",
      "            \"pubkeyhash\": \"3be87ab19e10e03ac192a3f07f902bca85ba391c\",\n",
      "            \"xprv\": \"xprvA2jzCN8RsK4WasGWizKe1EXW6rKw7v6hFWUFMMnvdtdhY65sJXpMHAJEdkrbaEBqfZz5TtMkGx298YnvmzgfV72KB1zoaqf1kcp7R3mJCgu\",\n",
      "            \"xpub\": \"xpub6FjLbsfKhgcooMLyq1reNNUEetARXNpYcjPr9kCYCEAgQtR1r58bpxciV2YbnwEAyAMQqZuZSPE3voQy2CPbmzkVw5rnYmAUz2fX2qmBmWa\"\n",
      "        },\n",
      "        {\n",
      "            \"address\": \"0x8C053E93f4Ca81b8857e0203Fae41435474fE750\",\n",
      "            \"index\": 1,\n",
      "            \"path\": \"m/44'/60'/0'/0/1\",\n",
      "            \"privkey\": \"0xb7aacf44738db13bbb7ddbd28d8979783e1922a13c6cb69e759fddc553f94be3\",\n",
      "            \"pubkey\": \"038c69df13c1798468e90c8a7475cccdc9706bd3807946aa9271bd3db9437f676c\",\n",
      "            \"pubkeyhash\": \"d32456955ed540b4cb3a51160d0c33e08e76201b\",\n",
      "            \"xprv\": \"xprvA2jzCN8RsK4WeYNFQb5jWiVvKmazMnzz6bRPehpXSbpUvmFZjE4kkzsxRPYRc8ZaZesiWqu7wa2Y62XNGpHgWG8FatH5X6Hm1GvRPyxVwpt\",\n",
      "            \"xpub\": \"xpub6FjLbsfKhgcos2SiWccjsrSesoRUmFiqTpLzT6E8zwMToZaiGmP1JoCSGgBtNJiNWMr3XmY6Rmp9sRxNicMZYi8JFM7TPb2NCvZVeiSzCLM\"\n",
      "        },\n",
      "        {\n",
      "            \"address\": \"0x16b7F0Da14C7AaD2c980F5761A04bA764880C1B3\",\n",
      "            \"index\": 2,\n",
      "            \"path\": \"m/44'/60'/0'/0/2\",\n",
      "            \"privkey\": \"0xa37178a434504ec6557a17cc29c99018ee89033f06b400f6e4133619c389dc42\",\n",
      "            \"pubkey\": \"02e8a1dbaba966af2c3e4dc04f25177091cfc92603b93566f67160e108080fd233\",\n",
      "            \"pubkeyhash\": \"4e85d61640e1f6291386c9e2f84f9d0b2aaad910\",\n",
      "            \"xprv\": \"xprvA2jzCN8RsK4Wh2HEp7r2ifip467RSBYmDnuHTRLTftE2Uh6p99chtWUdf1eWb9cWMpieLpK91LDhnaaE9NKWU6uedv5k4PZnoFrgqf6HAwU\",\n",
      "            \"xpub\": \"xpub6FjLbsfKhgcouWMhv9P35ofYc7wuqeGcb1ptFok5EDm1MVRxggvxSJo7WHCkNXrPstrwRA4x9zZtbbXESdfZa8X15S6c5sQSB1f9DdfonxY\"\n",
      "        }\n",
      "    ]\n",
      "}\n"
     ]
    }
   ],
   "source": [
    "print(json.dumps(keys, indent=4, sort_keys=True))"
   ]
  },
  {
   "cell_type": "code",
   "execution_count": 10,
   "metadata": {},
   "outputs": [],
   "source": [
    "def priv_key_to_account(coin,priv_key):\n",
    "    print(coin)\n",
    "    print(priv_key)\n",
    "    if coin == ETH:\n",
    "        return Account.privateKeyToAccount(priv_key)\n",
    "    elif coin == BTCTEST:\n",
    "        return PrivateKeyTestnet(priv_key)"
   ]
  },
  {
   "cell_type": "code",
   "execution_count": 11,
   "metadata": {},
   "outputs": [],
   "source": [
    "def create_tx(coin,account, recipient, amount):\n",
    "    if coin == ETH: \n",
    "        gasEstimate = w3.eth.estimateGas(\n",
    "            {\"from\":eth_acc.address, \"to\":recipient, \"value\": amount}\n",
    "        )\n",
    "        return { \n",
    "            \"from\": eth_acc.address,\n",
    "            \"to\": recipient,\n",
    "            \"value\": amount,\n",
    "            \"gasPrice\": w3.eth.gasPrice,\n",
    "            \"gas\": gasEstimate,\n",
    "            \"nonce\": w3.eth.getTransactionCount(eth_acc.address)\n",
    "        }\n",
    "    \n",
    "    elif coin == BTCTEST:\n",
    "        return PrivateKeyTestnet.prepare_transaction(account.address, [(recipient, amount, BTC)])"
   ]
  },
  {
   "cell_type": "code",
   "execution_count": 12,
   "metadata": {},
   "outputs": [
    {
     "name": "stdout",
     "output_type": "stream",
     "text": [
      "eth\n",
      "0xfa0f291e4d215437f615e6fbfe7786a9ee45e31f946230d75c75f95e178af6bb\n"
     ]
    }
   ],
   "source": [
    "eth_acc = priv_key_to_account(ETH, derive_wallets(mnemonic, ETH,5)[0]['privkey'])"
   ]
  },
  {
   "cell_type": "code",
   "execution_count": 13,
   "metadata": {},
   "outputs": [],
   "source": [
    "def send_txn(coin,account,recipient, amount):\n",
    "    txn = create_tx(coin, account, recipient, amount)\n",
    "    if coin == ETH:\n",
    "        signed_txn = eth_acc.sign_transaction(txn)\n",
    "        result = w3.eth.sendRawTransaction(signed_txn.rawTransaction)\n",
    "        print(result.hex())\n",
    "        return result.hex()\n",
    "    elif coin == BTCTEST:\n",
    "        tx_btctest = create_tx(coin, account, recipient, amount)\n",
    "        signed_txn = account.sign_transaction(txn)\n",
    "        print(signed_txn)\n",
    "        return NetworkAPI.broadcast_tx_testnet(signed_txn)"
   ]
  },
  {
   "cell_type": "code",
   "execution_count": 14,
   "metadata": {},
   "outputs": [
    {
     "name": "stdout",
     "output_type": "stream",
     "text": [
      "btc-test\n",
      "cPtbxdFBcbk4KDh4Lw1SRcE9Q4ztg67kn1bygQ25cCB9RHK9aC69\n"
     ]
    }
   ],
   "source": [
    "btc_acc = priv_key_to_account(BTCTEST,btc_PrivateKey)"
   ]
  },
  {
   "cell_type": "code",
   "execution_count": 28,
   "metadata": {},
   "outputs": [
    {
     "data": {
      "text/plain": [
       "'{\"unspents\":[{\"amount\":1600511,\"confirmations\":0,\"script\":\"76a914cf60fa9defc5c0d8efd334d69b9459cb00aaca2e88ac\",\"txid\":\"f9ef32a1d4e0d3a9dfd6b06fa89d7cc5f2879da2cc7f7b83c3d47b3bf39aca9e\",\"txindex\":1,\"type\":\"p2pkh\",\"vsize\":148,\"segwit\":false,\"sequence\":4294967295}],\"outputs\":[[\"mzRULyo9J9YMJiXnXyEzf4d3M4nTf5NQC3\",10000],[\"mzRULyo9J9YMJiXnXyEzf4d3M4nTf5NQC3\",1567459]]}'"
      ]
     },
     "execution_count": 28,
     "metadata": {},
     "output_type": "execute_result"
    }
   ],
   "source": [
    "create_tx(BTCTEST,btc_acc,\"mzRULyo9J9YMJiXnXyEzf4d3M4nTf5NQC3\", 0.0001)"
   ]
  },
  {
   "cell_type": "code",
   "execution_count": 29,
   "metadata": {},
   "outputs": [
    {
     "name": "stdout",
     "output_type": "stream",
     "text": [
      "01000000019eca9af33b7bd4c3837b7fcca29d87f2c57c9da86fb0d6dfa9d3e0d4a132eff9010000006b483045022100e292c65828b7a0dcf3ecb71474a4af90534c52854083ba442618623087cb7eaa0220792cbee7308b54a953d982e28fa71feb8b901bff047c5e45c1d8df3900e0789f0121034866a1a9a9b15ca569097b8f0708046bb6e1460b7081bf0921d8a3a01d4e60b7ffffffff0210270000000000001976a914875cdde020974a7240062ed7a3c8c468388f828788ace3ea1700000000001976a914cf60fa9defc5c0d8efd334d69b9459cb00aaca2e88ac00000000\n"
     ]
    }
   ],
   "source": [
    "send_txn(BTCTEST,btc_acc,\"msrgmSdJqwtNaEAMqyQxr4TtLPSrX1waDs\", 0.0001)"
   ]
  },
  {
   "cell_type": "code",
   "execution_count": 39,
   "metadata": {},
   "outputs": [],
   "source": [
    "w3 = Web3(Web3.HTTPProvider(\"http://127.0.0.1:8545/0xb7aacf44738db13bbb7ddbd28d8979783e1922a13c6cb69e759fddc553f94be3\"))"
   ]
  },
  {
   "cell_type": "code",
   "execution_count": 40,
   "metadata": {},
   "outputs": [
    {
     "data": {
      "text/plain": [
       "False"
      ]
     },
     "execution_count": 40,
     "metadata": {},
     "output_type": "execute_result"
    }
   ],
   "source": [
    "w3.isConnected()"
   ]
  },
  {
   "cell_type": "code",
   "execution_count": null,
   "metadata": {},
   "outputs": [],
   "source": []
  }
 ],
 "metadata": {
  "kernelspec": {
   "display_name": "Python 3",
   "language": "python",
   "name": "python3"
  },
  "language_info": {
   "codemirror_mode": {
    "name": "ipython",
    "version": 3
   },
   "file_extension": ".py",
   "mimetype": "text/x-python",
   "name": "python",
   "nbconvert_exporter": "python",
   "pygments_lexer": "ipython3",
   "version": "3.7.9"
  }
 },
 "nbformat": 4,
 "nbformat_minor": 4
}
